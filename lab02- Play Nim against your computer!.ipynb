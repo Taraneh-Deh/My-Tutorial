{
 "cells": [
  {
   "cell_type": "code",
   "execution_count": 1,
   "id": "1b4118c8-5eb8-452d-8ba5-6f9959a7e31c",
   "metadata": {},
   "outputs": [],
   "source": [
    "#include <iostream>\n",
    "using namespace std;"
   ]
  },
  {
   "cell_type": "code",
   "execution_count": 2,
   "id": "aa373d1f-c8da-4e3b-917d-b13683d31402",
   "metadata": {},
   "outputs": [
    {
     "name": "stdout",
     "output_type": "stream",
     "text": [
      "Player 1's turn:\n",
      "Number of sticks in Row 1: 1\n",
      "Number of sticks in Row 2: 3\n",
      "Number of sticks in Row 3: 5\n",
      "Number of sticks in Row 4: 7\n",
      "Enter the row number:\n"
     ]
    },
    {
     "name": "stdout",
     "output_type": "stream",
     "text": [
      " 1\n"
     ]
    },
    {
     "name": "stdout",
     "output_type": "stream",
     "text": [
      "Enter the number of sticks to take:\n"
     ]
    },
    {
     "name": "stdout",
     "output_type": "stream",
     "text": [
      " 1\n"
     ]
    },
    {
     "name": "stdout",
     "output_type": "stream",
     "text": [
      "Player 2's turn:\n",
      "Number of sticks in Row 1: 0\n",
      "Number of sticks in Row 2: 3\n",
      "Number of sticks in Row 3: 5\n",
      "Number of sticks in Row 4: 7\n",
      "Enter the row number:\n"
     ]
    },
    {
     "name": "stdout",
     "output_type": "stream",
     "text": [
      " 1\n"
     ]
    },
    {
     "name": "stdout",
     "output_type": "stream",
     "text": [
      "Enter the number of sticks to take:\n"
     ]
    },
    {
     "name": "stdout",
     "output_type": "stream",
     "text": [
      " 1\n"
     ]
    },
    {
     "name": "stdout",
     "output_type": "stream",
     "text": [
      "That is too many sticks!\n",
      "Player 2's turn:\n",
      "Number of sticks in Row 1: 0\n",
      "Number of sticks in Row 2: 3\n",
      "Number of sticks in Row 3: 5\n",
      "Number of sticks in Row 4: 7\n",
      "Enter the row number:\n"
     ]
    },
    {
     "name": "stdout",
     "output_type": "stream",
     "text": [
      " 2\n"
     ]
    },
    {
     "name": "stdout",
     "output_type": "stream",
     "text": [
      "Enter the number of sticks to take:\n"
     ]
    },
    {
     "name": "stdout",
     "output_type": "stream",
     "text": [
      " 3\n"
     ]
    },
    {
     "name": "stdout",
     "output_type": "stream",
     "text": [
      "Player 1's turn:\n",
      "Number of sticks in Row 1: 0\n",
      "Number of sticks in Row 2: 0\n",
      "Number of sticks in Row 3: 5\n",
      "Number of sticks in Row 4: 7\n",
      "Enter the row number:\n"
     ]
    },
    {
     "name": "stdout",
     "output_type": "stream",
     "text": [
      " 5\n"
     ]
    },
    {
     "name": "stdout",
     "output_type": "stream",
     "text": [
      "Player 1's turn:\n",
      "Number of sticks in Row 1: 0\n",
      "Number of sticks in Row 2: 0\n",
      "Number of sticks in Row 3: 5\n",
      "Number of sticks in Row 4: 7\n",
      "Enter the row number:\n"
     ]
    },
    {
     "name": "stdout",
     "output_type": "stream",
     "text": [
      " 5\n"
     ]
    },
    {
     "name": "stdout",
     "output_type": "stream",
     "text": [
      "Player 1's turn:\n",
      "Number of sticks in Row 1: 0\n",
      "Number of sticks in Row 2: 0\n",
      "Number of sticks in Row 3: 5\n",
      "Number of sticks in Row 4: 7\n",
      "Enter the row number:\n"
     ]
    },
    {
     "name": "stdout",
     "output_type": "stream",
     "text": [
      " 3\n"
     ]
    },
    {
     "name": "stdout",
     "output_type": "stream",
     "text": [
      "Enter the number of sticks to take:\n"
     ]
    },
    {
     "name": "stdout",
     "output_type": "stream",
     "text": [
      " 5\n"
     ]
    },
    {
     "name": "stdout",
     "output_type": "stream",
     "text": [
      "Player 2's turn:\n",
      "Number of sticks in Row 1: 0\n",
      "Number of sticks in Row 2: 0\n",
      "Number of sticks in Row 3: 0\n",
      "Number of sticks in Row 4: 7\n",
      "Enter the row number:\n"
     ]
    },
    {
     "name": "stdout",
     "output_type": "stream",
     "text": [
      " 7\n"
     ]
    },
    {
     "name": "stdout",
     "output_type": "stream",
     "text": [
      "Player 2's turn:\n",
      "Number of sticks in Row 1: 0\n",
      "Number of sticks in Row 2: 0\n",
      "Number of sticks in Row 3: 0\n",
      "Number of sticks in Row 4: 7\n",
      "Enter the row number:\n"
     ]
    },
    {
     "name": "stdout",
     "output_type": "stream",
     "text": [
      " 4\n"
     ]
    },
    {
     "name": "stdout",
     "output_type": "stream",
     "text": [
      "Enter the number of sticks to take:\n"
     ]
    },
    {
     "name": "stdout",
     "output_type": "stream",
     "text": [
      " 7\n"
     ]
    },
    {
     "name": "stdout",
     "output_type": "stream",
     "text": [
      "Game over!\n"
     ]
    }
   ],
   "source": [
    "//each row variable stores the number of sticks in that row\n",
    "int row1=1;\n",
    "int row2=3;\n",
    "int row3=5;\n",
    "int row4=7;\n",
    "bool is_first_player = true;\n",
    "while(1){\n",
    "\n",
    "if (is_first_player){\n",
    "    printf(\"Player 1's turn:\\n\");\n",
    "}\n",
    "else{\n",
    "    printf(\"Player 2's turn:\\n\");\n",
    "}\n",
    "printf(\"Number of sticks in Row 1: %d\\n\",row1);\n",
    "printf(\"Number of sticks in Row 2: %d\\n\",row2);\n",
    "printf(\"Number of sticks in Row 3: %d\\n\",row3);\n",
    "printf(\"Number of sticks in Row 4: %d\\n\",row4);\n",
    "\n",
    "printf(\"Enter the row number:\\n\");\n",
    "int row_number;\n",
    "std::cin >> row_number;\n",
    "if (1 <= row_number && row_number <= 4){\n",
    "    printf(\"Enter the number of sticks to take:\\n\");\n",
    "    int sticks;\n",
    "    std::cin >> sticks;\n",
    "    switch(row_number){\n",
    "        case 1:\n",
    "            if (sticks > row1){\n",
    "                printf(\"That is too many sticks!\\n\");\n",
    "                break;\n",
    "            }\n",
    "            row1 = row1 - sticks;\n",
    "            is_first_player = !is_first_player;\n",
    "            break;\n",
    "        case 2:\n",
    "            if (sticks > row2){\n",
    "                printf(\"That is too many sticks!\\n\");\n",
    "                break;\n",
    "            }\n",
    "            row2 = row2 - sticks;\n",
    "            is_first_player = !is_first_player;\n",
    "            break;\n",
    "        case 3:\n",
    "            if (sticks > row3){\n",
    "                printf(\"That is too many sticks!\\n\");\n",
    "                break;\n",
    "            }\n",
    "            row3 = row3 - sticks;\n",
    "            is_first_player = !is_first_player;\n",
    "            break;\n",
    "        case 4:\n",
    "            if (sticks > row4){\n",
    "                printf(\"That is too many sticks!\\n\");\n",
    "                break;\n",
    "            }\n",
    "            row4 = row4 - sticks;\n",
    "            is_first_player = !is_first_player;\n",
    "            break;\n",
    "    }\n",
    "}\n",
    "    if (row1 == 0 && row2 == 0 && row3 == 0 && row4 == 0){\n",
    "        printf (\"Game over!\\n\");\n",
    "        break;\n",
    "    }\n",
    "}"
   ]
  }
 ],
 "metadata": {
  "kernelspec": {
   "display_name": "C++11",
   "language": "C++11",
   "name": "xcpp11"
  },
  "language_info": {
   "codemirror_mode": "text/x-c++src",
   "file_extension": ".cpp",
   "mimetype": "text/x-c++src",
   "name": "c++",
   "version": "11"
  }
 },
 "nbformat": 4,
 "nbformat_minor": 5
}
