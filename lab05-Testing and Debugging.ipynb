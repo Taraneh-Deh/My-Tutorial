{
 "cells": [
  {
   "cell_type": "code",
   "execution_count": 1,
   "id": "eac3b8c3-ac5e-4e19-ac96-fc847df3b2a7",
   "metadata": {},
   "outputs": [],
   "source": [
    "/*\n",
    "We start by including the libraries needed to run the program. \n",
    "You won't need to know all the contents of these, and some libraries\n",
    "are only needed to run some pre-written code you don't have to handle.\n",
    "*/\n",
    "#include <iostream>\n",
    "#include <vector>\n",
    "#include <string>\n",
    "#include <cmath>"
   ]
  },
  {
   "cell_type": "markdown",
   "id": "53a01fa8-8f0e-41d1-8f56-0effe2e21806",
   "metadata": {},
   "source": [
    "### Testing"
   ]
  },
  {
   "cell_type": "markdown",
   "id": "22fd2449-a398-428a-acdc-c6cbf2f5e706",
   "metadata": {},
   "source": [
    "Testing code with test cases is an essential practice in software development. It helps identify and address issues, and ensures code reliability. It involves the creation of specific inputs and expected outputs to evaluate the correctness and reliability of a program or function.\n",
    "\n",
    "Procedure:\n",
    "\n",
    "1. Create Test Cases: Identify various scenarios and inputs that the code should handle. Develop a set of test cases that cover a range of situations, including normal, boundary, and error cases.\n",
    "2. Run the Tests: Execute the code with the input from each test case. Record the actual outputs or results produced by the code.\n",
    "3. Compare Results: Compare the actual results with the expected results from the test cases. If the actual results match the expected results, the code is functioning correctly for those test cases.\n",
    "4. Detect and Correct Issues: If there are discrepancies between actual and expected results, there may be issues in the code. Identify and address the problems to improve the code's accuracy.\n",
    "5. Iterate: Make adjustments to the code based on the detected issues. Re-run the test cases to verify that the issues have been resolved."
   ]
  },
  {
   "cell_type": "markdown",
   "id": "c03182b8-1ced-422f-bf4d-ebaf335ecefb",
   "metadata": {
    "tags": []
   },
   "source": [
    "#### Exercise 1a:"
   ]
  },
  {
   "cell_type": "markdown",
   "id": "6153723e-e7e4-4269-b8c3-a25f03ed0c78",
   "metadata": {},
   "source": [
    "You are provided with a function that calculates the factorial of an integer. Your first task is to develop test cases to verify the accuracy of this code."
   ]
  },
  {
   "cell_type": "code",
   "execution_count": 2,
   "id": "eedbe479-9512-49a7-a977-d3023bfc8e3e",
   "metadata": {
    "tags": []
   },
   "outputs": [],
   "source": [
    "/*\n",
    "Calculate the factorial of a non-negative integer n.\n",
    "    \n",
    "Factorial of a non-negative integer n, denoted as n!, is the product of all positive integers from 1 to n.\n",
    "For example, 5! = 5 * 4 * 3 * 2 * 1 = 120.\n",
    "\n",
    "param n: The non-negative integer for which to calculate the factorial.\n",
    "return: The factorial of n.\n",
    "*/\n",
    "int flawedFactorial(int n) {\n",
    "    int result = 1;\n",
    "    \n",
    "    // Multiply result by all positive integers from 1 to n.\n",
    "    for (int i = 1; i <= n; i++) {\n",
    "        result *= i;\n",
    "    }\n",
    "\n",
    "    return result;\n",
    "}"
   ]
  },
  {
   "cell_type": "code",
   "execution_count": 3,
   "id": "a8c59e8c-c65d-489a-be8e-ff1a855a4f1c",
   "metadata": {
    "tags": []
   },
   "outputs": [],
   "source": [
    "/*\n",
    "Run a test for the flawedFactorial function and compare the result with the expected value.\n",
    "*/\n",
    "void runTestFlawedFactorial(int num, int expected) {\n",
    "    // Calculate the factorial using the flawedFactorial function.\n",
    "    int result = flawedFactorial(num);\n",
    "    \n",
    "    // Check if the result matches the expected value.\n",
    "    if (result == expected) {\n",
    "        std::cout << \"Test for \" << num << \" passed. Expected result: \" << expected << std::endl;\n",
    "    } else {\n",
    "        // If the result doesn't match the expected value, report the test failure.\n",
    "        std::cerr << \"Test for \" << num << \" failed. Expected result: \" << expected << \", Actual result: \" << result << std::endl;\n",
    "    }\n",
    "}"
   ]
  },
  {
   "cell_type": "markdown",
   "id": "bbcb96ed-629f-4b01-9efc-7cd838a30d1a",
   "metadata": {},
   "source": [
    "For the flawedFactorial function, you are required to write at least three test cases to verify if the code is correct.\n",
    "\n",
    "- Positive: Input a non-negative integer and ensure the program calculates the factorial correctly.\n",
    "- Negative: Input a negative number and verify that the program throws an error as expected.\n",
    "- Zero: Input zero and ensure that it correctly returns a factorial of 1."
   ]
  },
  {
   "cell_type": "code",
   "execution_count": 4,
   "id": "e2b725b6-631d-48eb-b8ba-cf01bec1cfb0",
   "metadata": {
    "tags": []
   },
   "outputs": [],
   "source": [
    "/*\n",
    "Perform a set of test cases on the flawedFactorial function.\n",
    "\n",
    "TODO: Add required test cases!\n",
    "\n",
    "*/\n",
    "void testFlawedFactorial() {\n",
    "    // Define a vector of test cases in the format of {input, expected result}.\n",
    "    // e.g. {{1, 1}, {5, 120}}\n",
    "    std::vector<std::pair<int, int>> testCases = {{1, 1}, {5, 120}};    //TODO: Add test cases here!\n",
    "\n",
    "    // Iterate through the test cases and run each test.\n",
    "    for (const auto& testCase : testCases) {\n",
    "        runTestFlawedFactorial(testCase.first, testCase.second);\n",
    "    }\n",
    "}"
   ]
  },
  {
   "cell_type": "code",
   "execution_count": 5,
   "id": "31e76af1-b256-471a-b8c8-3422aa17cfa9",
   "metadata": {
    "tags": []
   },
   "outputs": [],
   "source": [
    "void testFlawedFactorial() {\n",
    "    // Define a vector of test cases (input, expected result).\n",
    "    std::vector<std::pair<int, int>> testCases = {{0, 1}, {1, 1}, {5, 120}, {-1, -1}, {-2, -1}};\n",
    "\n",
    "     // Iterate through the test cases and run each test.\n",
    "    for (const auto& testCase : testCases) {\n",
    "        runTestFlawedFactorial(testCase.first, testCase.second);\n",
    "    }\n",
    "}"
   ]
  },
  {
   "cell_type": "markdown",
   "id": "abcc20b1-bfd1-498d-819c-921b94ba7bba",
   "metadata": {},
   "source": [
    "Now that you have chosen your test cases, proceed by invoking the following function to execute them."
   ]
  },
  {
   "cell_type": "code",
   "execution_count": 6,
   "id": "fb4aaebe-1091-44cf-9ddf-1b63994890e8",
   "metadata": {
    "tags": []
   },
   "outputs": [
    {
     "name": "stdout",
     "output_type": "stream",
     "text": [
      "Test for 0 passed. Expected result: 1\n",
      "Test for 1 passed. Expected result: 1\n",
      "Test for 5 passed. Expected result: 120\n"
     ]
    },
    {
     "name": "stderr",
     "output_type": "stream",
     "text": [
      "Test for -1 failed. Expected result: -1, Actual result: 1\n",
      "Test for -2 failed. Expected result: -1, Actual result: 1\n"
     ]
    }
   ],
   "source": [
    "// Call the testFlawedFactorial functionto verify if all the test cases pass.\n",
    "testFlawedFactorial();"
   ]
  },
  {
   "cell_type": "markdown",
   "id": "272e08c9-1738-4c23-9199-9435dc25ef3b",
   "metadata": {},
   "source": [
    "**<u>Switch your driver and navigator roles now.</u>**"
   ]
  },
  {
   "cell_type": "markdown",
   "id": "c1164493-f564-494d-a96f-eac44be31778",
   "metadata": {},
   "source": [
    "#### Exercise 1b:\n",
    "\n",
    "Using the results from your test cases, pinpoint the problems in the factorial function and make necessary adjustments to ensure that it accurately computes factorials for all non-negative integers."
   ]
  },
  {
   "cell_type": "code",
   "execution_count": 7,
   "id": "188cf0b4-1821-453f-abf9-e95479147c84",
   "metadata": {
    "tags": []
   },
   "outputs": [],
   "source": [
    "/*\n",
    "Calculate the factorial of a non-negative integer n.\n",
    "    \n",
    "Factorial of a non-negative integer n, denoted as n!, is the product of all positive integers from 1 to n.\n",
    "For example, 5! = 5 * 4 * 3 * 2 * 1 = 120.\n",
    "\n",
    "param n: The non-negative integer for which to calculate the factorial.\n",
    "return: The factorial of n.\n",
    "\n",
    "TODO: Correct the code to address failed test cases!\n",
    "\n",
    "*/\n",
    "int factorial(int n) {\n",
    "    int result = 1;\n",
    "    \n",
    "    // Multiply result by all positive integers from 1 to n.\n",
    "    for (int i = 1; i <= n; i++) {\n",
    "        result *= i;\n",
    "    }\n",
    "\n",
    "    return result;\n",
    "}"
   ]
  },
  {
   "cell_type": "code",
   "execution_count": 8,
   "id": "f24c1c50-6817-47ff-a9c8-c98d8dabd5af",
   "metadata": {
    "tags": []
   },
   "outputs": [],
   "source": [
    "/*\n",
    "Calculate the factorial of a non-negative integer n.\n",
    "    \n",
    "Factorial of a non-negative integer n, denoted as n!, is the product of all positive integers from 1 to n.\n",
    "For example, 5! = 5 * 4 * 3 * 2 * 1 = 120.\n",
    "\n",
    "param n: The non-negative integer for which to calculate the factorial.\n",
    "return: The factorial of n.\n",
    "*/\n",
    "int factorial(int n) {\n",
    "    if (n < 0) {\n",
    "        // std::cerr << \"Error: Cannot calculate factorial of a negative number\" << std::endl;\n",
    "        return -1; // Return a sentinel value to indicate an error\n",
    "    }\n",
    "\n",
    "    int result = 1;\n",
    "    // Multiply result by all positive integers from 1 to n.\n",
    "    for (int i = 1; i <= n; i++) {\n",
    "        result *= i;\n",
    "    }\n",
    "\n",
    "    return result;\n",
    "}"
   ]
  },
  {
   "cell_type": "code",
   "execution_count": 9,
   "id": "47ec6016-6aaf-4969-a1d9-a16ba97fc77a",
   "metadata": {
    "tags": []
   },
   "outputs": [],
   "source": [
    "/*\n",
    "Run a test for the factorial function and compare the result with the expected value.\n",
    "*/\n",
    "void runTestFactorial(int num, int expected) {\n",
    "    // Calculate the factorial using the factorial function.\n",
    "    int result = factorial(num);\n",
    "    \n",
    "    // Check if the result matches the expected value.\n",
    "    if (result == expected) {\n",
    "        std::cout << \"Test for \" << num << \" passed. Expected result: \" << expected << std::endl;\n",
    "    } else {\n",
    "        // If the result doesn't match the expected value, report the test failure.\n",
    "        std::cerr << \"Test for \" << num << \" failed. Expected result: \" << expected << \", Actual result: \" << result << std::endl;\n",
    "    }\n",
    "}"
   ]
  },
  {
   "cell_type": "code",
   "execution_count": 10,
   "id": "7992691a-200e-4c20-9ef2-14797f9e03e9",
   "metadata": {
    "tags": []
   },
   "outputs": [],
   "source": [
    "/*\n",
    "Perform a set of test cases on the factorial function.\n",
    "*/\n",
    "void testFactorial() {\n",
    "    // Define a vector of test cases (input, expected result).\n",
    "    std::vector<std::pair<int, int>> testCases = {{0, 1}, {1, 1}, {5, 120}, {-1, -1}, {-2, -1}};\n",
    "    \n",
    "    // Iterate through the test cases and run each test.\n",
    "    for (const auto& testCase : testCases) {\n",
    "        runTestFactorial(testCase.first, testCase.second);\n",
    "    }\n",
    "}"
   ]
  },
  {
   "cell_type": "markdown",
   "id": "39093767-a4a6-41f8-b52a-a9b4e6b2cb80",
   "metadata": {},
   "source": [
    "Now that you have fixed the factorial code, proceed by invoking the following function to execute the pre-defined test cases."
   ]
  },
  {
   "cell_type": "code",
   "execution_count": 11,
   "id": "e82e1937-ecaa-427a-8e58-83031d50e4e5",
   "metadata": {
    "tags": []
   },
   "outputs": [
    {
     "name": "stdout",
     "output_type": "stream",
     "text": [
      "Test for 0 passed. Expected result: 1\n",
      "Test for 1 passed. Expected result: 1\n",
      "Test for 5 passed. Expected result: 120\n",
      "Test for -1 passed. Expected result: -1\n",
      "Test for -2 passed. Expected result: -1\n"
     ]
    }
   ],
   "source": [
    "// Call the testFactorial function to verify if all the test cases pass.\n",
    "testFactorial();"
   ]
  },
  {
   "cell_type": "markdown",
   "id": "580228b3-9f22-416d-ac74-3ef7cd7b2056",
   "metadata": {},
   "source": [
    "**<u>Show your TA your work, then switch your driver and navigator roles before moving on.</u>**"
   ]
  },
  {
   "cell_type": "markdown",
   "id": "1be6471a-f0d5-41c2-bb97-7f7b93258740",
   "metadata": {},
   "source": [
    "#### Exercise 1c:\n",
    "\n",
    "You are provided with a function that counts the number of vowels in a string. Your first task is to develop test cases to verify the accuracy of this code."
   ]
  },
  {
   "cell_type": "code",
   "execution_count": 12,
   "id": "e4ce3c4f-aa66-4dfa-9198-f6a0baa84304",
   "metadata": {
    "tags": []
   },
   "outputs": [],
   "source": [
    "/*\n",
    "Count the number of vowels in a given string.\n",
    "param input: The given string.\n",
    "return: The count of vowels.\n",
    "*/\n",
    "int flawedCountVowels(const std::string& input) {\n",
    "    // Initialize a counter to keep track of the vowel count.\n",
    "    int count = 0;\n",
    "    \n",
    "    // Iterate through each character (char c) in the input string.\n",
    "    for (char c : input) {\n",
    "        // Check if the current character is one of the vowels (a, e, i, o, u).\n",
    "        if (c == 'a' || c == 'e' || c == 'i' || c == 'o' || c == 'u') {\n",
    "            count++;  // Increment the count if the character is a vowel.\n",
    "        }\n",
    "    }\n",
    "    return count;\n",
    "}"
   ]
  },
  {
   "cell_type": "code",
   "execution_count": 13,
   "id": "89391920-5c89-44f5-a7f4-f2716bcca47e",
   "metadata": {
    "tags": []
   },
   "outputs": [],
   "source": [
    "/*\n",
    "Run a test for the flawedCountVowels function and compare the result with the expected value.\n",
    "*/\n",
    "void runTestFlawedCountVowels(const std::string& input, int expected) {\n",
    "    // Count the vowels using the flawedCountVowels function.\n",
    "    int result = flawedCountVowels(input);\n",
    "    \n",
    "    // Check if the result matches the expected value.\n",
    "    if (result == expected) {\n",
    "        std::cout << \"Test for \\\"\" << input << \"\\\" passed. Expected count: \" << expected << \", Actual count: \" << result << std::endl;\n",
    "    } else {\n",
    "        // If the result doesn't match the expected value, report the test failure.\n",
    "        std::cerr << \"Test for \\\"\" << input << \"\\\" failed. Expected count: \" << expected << \", Actual count: \" << result << std::endl;\n",
    "    }\n",
    "}"
   ]
  },
  {
   "cell_type": "markdown",
   "id": "6df9305d-8e8c-46b6-9c50-f70a82c9d059",
   "metadata": {},
   "source": [
    "For the flawedCountVowels function, you are required write at least three test cases to verify if the code is correct.\n",
    "\n",
    "- At least one vowel: Input a string with vowels (both upper and lower case), and ensure the program counts the vowels correctly.\n",
    "- Empty String: Input an empty string and verify that the program correctly returns a count of 0.\n",
    "- No Vowels: Input a string with no vowels, and ensure the program returns a count of 0."
   ]
  },
  {
   "cell_type": "code",
   "execution_count": 14,
   "id": "22b71693-8092-4af1-8811-8cf9a6e117ae",
   "metadata": {
    "tags": []
   },
   "outputs": [],
   "source": [
    "/*\n",
    "Perform a set of test cases on the flawedCountVowels function.\n",
    "\n",
    "TODO: Add required test cases!\n",
    "\n",
    "*/\n",
    "void testFlawedCountVowels() {\n",
    "    // Define a vector of test cases in the format of {input, expected result}.\n",
    "    // e.g. {{\"rhythm\", 0}, {\"annoy\", 2}}\n",
    "    std::vector<std::pair<std::string, int>> testCases = {{\"rhythm\", 0}, {\"annoy\", 2}};    //TODO: Add test cases here!\n",
    "\n",
    "    // Iterate through the test cases and run each test.\n",
    "    for (const auto& testCase : testCases) {\n",
    "        runTestFlawedCountVowels(testCase.first, testCase.second);\n",
    "    }\n",
    "}"
   ]
  },
  {
   "cell_type": "code",
   "execution_count": 15,
   "id": "61b33687-d8ec-4f1a-a90c-b04d3a049993",
   "metadata": {
    "tags": []
   },
   "outputs": [],
   "source": [
    "/*\n",
    "Perform a set of test cases on the flawedCountVowels function.\n",
    "*/\n",
    "void testFlawedCountVowels() {\n",
    "    \n",
    "    // Define a vector of test cases (input, expected result).\n",
    "    std::vector<std::pair<std::string, int>> testCases = {{\"abcde ABCDE\", 4}, {\"\", 0}, {\"Rhythm\", 0}};\n",
    "\n",
    "    // Iterate through the test cases and run each test.\n",
    "    for (const auto& testCase : testCases) {\n",
    "        runTestFlawedCountVowels(testCase.first, testCase.second);\n",
    "    }\n",
    "}"
   ]
  },
  {
   "cell_type": "markdown",
   "id": "31693d94-6299-49f6-9733-4aace7a9dc6a",
   "metadata": {},
   "source": [
    "Now that you have chosen your test cases, proceed by invoking the following function to execute them."
   ]
  },
  {
   "cell_type": "code",
   "execution_count": 16,
   "id": "665997ae-d28b-4180-97e0-e6e85ddd541f",
   "metadata": {
    "tags": []
   },
   "outputs": [
    {
     "name": "stderr",
     "output_type": "stream",
     "text": [
      "Test for \"abcde ABCDE\" failed. Expected count: 4, Actual count: 2\n"
     ]
    },
    {
     "name": "stdout",
     "output_type": "stream",
     "text": [
      "Test for \"\" passed. Expected count: 0, Actual count: 0\n",
      "Test for \"Rhythm\" passed. Expected count: 0, Actual count: 0\n"
     ]
    }
   ],
   "source": [
    "// Call the testFlawedCountVowels function to verify if all the test cases pass.\n",
    "testFlawedCountVowels();"
   ]
  },
  {
   "cell_type": "markdown",
   "id": "48d71606-ff94-4382-8381-39d1fdaf7225",
   "metadata": {},
   "source": [
    "**<u>Switch your driver and navigator roles now.</u>**"
   ]
  },
  {
   "cell_type": "markdown",
   "id": "dd212ab7-cd11-4b91-8850-b69b6facff43",
   "metadata": {},
   "source": [
    "#### Exercise 1d:\n",
    "\n",
    "Using the results from your test cases, pinpoint the problems in the count vowels function and make necessary adjustments to ensure that it accurately counts the vowels for all types of strings."
   ]
  },
  {
   "cell_type": "code",
   "execution_count": 17,
   "id": "e35e9875-fb60-4773-82d4-ee5c68077519",
   "metadata": {
    "tags": []
   },
   "outputs": [],
   "source": [
    "/*\n",
    "Count the number of vowels in a given string.\n",
    "param input: The given string.\n",
    "return: The count of vowels.\n",
    "\n",
    "TODO: Correct the code to address failed test cases!\n",
    "\n",
    "*/\n",
    "int countVowels(const std::string& input) {\n",
    "    // Initialize a counter to keep track of the vowel count.\n",
    "    int count = 0;\n",
    "    \n",
    "    // Iterate through each character (char c) in the input string.\n",
    "    for (char c : input) {\n",
    "        // Check if the current character is one of the vowels (a, e, i, o, u).\n",
    "        if (c == 'a' || c == 'e' || c == 'i' || c == 'o' || c == 'u') {\n",
    "            count++;  // Increment the count if the character is a vowel.\n",
    "        }\n",
    "    }\n",
    "    return count;\n",
    "}"
   ]
  },
  {
   "cell_type": "code",
   "execution_count": 18,
   "id": "4a99275d-8be8-4981-bee6-b6b90d15f57f",
   "metadata": {
    "tags": []
   },
   "outputs": [],
   "source": [
    "/*\n",
    "Count the number of vowels in a given string.\n",
    "param input: The given string.\n",
    "return: The count of vowels.\n",
    "*/\n",
    "int countVowels(const std::string& input) {\n",
    "    // Initialize a counter to keep track of the vowel count.\n",
    "    int count = 0;\n",
    "    for (char c : input) {\n",
    "        // Convert current character to lowercase.\n",
    "        char lowercaseC = tolower(c);\n",
    "        // Check if the current character is one of the vowels (a, e, i, o, u).\n",
    "        if (lowercaseC == 'a' || lowercaseC == 'e' || lowercaseC == 'i' || lowercaseC == 'o' || lowercaseC == 'u') {\n",
    "            count++;\n",
    "        }\n",
    "    }\n",
    "    return count;\n",
    "}"
   ]
  },
  {
   "cell_type": "code",
   "execution_count": 19,
   "id": "60c3e818-6d6b-4349-9e9e-3957f1bed801",
   "metadata": {
    "tags": []
   },
   "outputs": [],
   "source": [
    "/*\n",
    "Run a test for the countVowels function and compare the result with the expected value.\n",
    "*/\n",
    "void runTestCountVowels(const std::string& input, int expected) {\n",
    "    // Count the vowels using the countVowels function.\n",
    "    int result = countVowels(input);\n",
    "\n",
    "    // Check if the result matches the expected value.\n",
    "    if (result == expected) {\n",
    "        std::cout << \"Test for \\\"\" << input << \"\\\" passed. Expected count: \" << expected << \", Actual count: \" << result << std::endl;\n",
    "    } else {\n",
    "        // If the result doesn't match the expected value, report the test failure.\n",
    "        std::cerr << \"Test for \\\"\" << input << \"\\\" failed. Expected count: \" << expected << \", Actual count: \" << result << std::endl;\n",
    "    }\n",
    "}"
   ]
  },
  {
   "cell_type": "code",
   "execution_count": 20,
   "id": "c354495c-7120-41be-b97b-a611a9734770",
   "metadata": {
    "tags": []
   },
   "outputs": [],
   "source": [
    "/*\n",
    "Perform a set of test cases on the countVowels function.\n",
    "*/\n",
    "void testCountVowels() {\n",
    "    // Define a vector of test cases (input, expected result).\n",
    "    std::vector<std::pair<std::string, int>> testCases = {{\"abcde ABCDE\", 4}, {\"\", 0}, {\"Rhythm\", 0}};\n",
    "\n",
    "    // Iterate through the test cases and run each test.\n",
    "    for (const auto& testCase : testCases) {\n",
    "        runTestCountVowels(testCase.first, testCase.second);\n",
    "    }\n",
    "}"
   ]
  },
  {
   "cell_type": "markdown",
   "id": "9f0b75af-9684-4c90-be2a-e6768a62c846",
   "metadata": {},
   "source": [
    "Now that you have fixed the count vowels code, proceed by invoking the following function to execute the pre-defined test cases."
   ]
  },
  {
   "cell_type": "code",
   "execution_count": 21,
   "id": "6208d9de-f486-47d1-bee5-1523e2e96751",
   "metadata": {
    "tags": []
   },
   "outputs": [
    {
     "name": "stdout",
     "output_type": "stream",
     "text": [
      "Test for \"abcde ABCDE\" passed. Expected count: 4, Actual count: 4\n",
      "Test for \"\" passed. Expected count: 0, Actual count: 0\n",
      "Test for \"Rhythm\" passed. Expected count: 0, Actual count: 0\n"
     ]
    }
   ],
   "source": [
    "// Call the testCountVowels function to verify if all the test cases pass.\n",
    "testCountVowels();"
   ]
  },
  {
   "cell_type": "markdown",
   "id": "f1da7c92-2aa5-47e5-ac57-8d1aebe781ef",
   "metadata": {},
   "source": [
    "**<u>Show your TA your work, then switch your driver and navigator roles before moving on.</u>**"
   ]
  },
  {
   "cell_type": "markdown",
   "id": "e4fd2f1c-0472-4a0d-9d67-68f34c91db34",
   "metadata": {
    "tags": []
   },
   "source": [
    "### Debugging using Print Statements"
   ]
  },
  {
   "cell_type": "markdown",
   "id": "ca0b2e23-f26d-45b5-ad9b-244375b1884b",
   "metadata": {},
   "source": [
    "Debugging is an essential step in software development to locate and rectify errors or bugs within the code. One common method for debugging is using print statements, which involves inserting strategically placed “print” or “cout” statements in the code to output specific variables, values, or messages. Debugging with print statements provides a visual and informative way to trace the execution of your code and identify problems. It helps you understand how variables change during execution, which can be invaluable in finding and fixing issues.\n",
    "\n",
    "Occasionally, when dealing with extensive code, inserting print statements alone can be a time-consuming task. Prior to embarking on code tracing, consider adopting a divide-and-conquer strategy to efficiently pinpoint the root of the issue. Employ test cases to facilitate this process. In situations where your code comprises multiple components and a bug is present, there’s no need to sift through sections that you’re already certain are functioning correctly."
   ]
  },
  {
   "cell_type": "markdown",
   "id": "efc3c1e3-faec-4065-ab51-273eb9dad147",
   "metadata": {},
   "source": [
    "#### Exercise 2a:\n",
    "\n",
    "You are given a function that checks if an array of integers contains any duplicates. However the code returns incorrect results. Locate and fix the bugs in the code by injecting print statments and observing how the check is performed.You are provided with a function that determines whether an array of integers has any duplicate elements. However, the given code returns incorrect results. Your task is to locate and fix the bugs in the code by injecting print statments and observing how the check for duplicates is performed."
   ]
  },
  {
   "cell_type": "code",
   "execution_count": 22,
   "id": "7c4a914f-768a-4c5c-ba5a-6d69a8367fec",
   "metadata": {
    "tags": []
   },
   "outputs": [],
   "source": [
    "/*\n",
    "Check if an array contains duplicate elements.\n",
    "param arr: an array of integers.\n",
    "param size: size of the input array.\n",
    "return: whether array contains duplicates.\n",
    "\n",
    "TODO: Debug the code to address incorrect result!\n",
    "\n",
    "*/\n",
    "bool containsDuplicates(int arr[], int size) {\n",
    "    // Nested for loops to compare each element with every other element in the array.\n",
    "    for (int i = 0; i < size; i++) {\n",
    "        for (int j = 0; j < size; j++) {\n",
    "            // If the same element is found at different positions, return true (indicating duplicates).\n",
    "            if (arr[i] == arr[j]) {\n",
    "                return true;\n",
    "            }\n",
    "        }\n",
    "    }\n",
    "    // If no duplicates are found, return false.\n",
    "    return false;\n",
    "}"
   ]
  },
  {
   "cell_type": "code",
   "execution_count": 23,
   "id": "665f10b5-885f-415c-8989-f178af81e551",
   "metadata": {
    "tags": []
   },
   "outputs": [],
   "source": [
    "/*\n",
    "Check if an array contains duplicate elements.\n",
    "param arr: an array of integers.\n",
    "param size: size of the input array.\n",
    "return: whether array contains duplicates.\n",
    "*/\n",
    "bool containsDuplicates(int arr[], int size) {\n",
    "    // Nested for loops to compare each element with every other element in the array.\n",
    "    for (int i = 0; i < size; i++) {\n",
    "        for (int j = 0; j < size; j++) {\n",
    "            // If the comparing the same positions, continue to next loop.\n",
    "            if (i == j) continue;\n",
    "            \n",
    "            // If the same element is found at different positions, return true (indicating duplicates).\n",
    "            if (arr[i] == arr[j]) {\n",
    "                // std::cout << \"Debug: Found duplicate - arr[\" << i << \"] = \" << arr[i] << \", arr[\" << j << \"] = \" << arr[j] << std::endl;\n",
    "                return true;\n",
    "            }\n",
    "        }\n",
    "    }\n",
    "    // If no duplicates are found, return false.\n",
    "    return false;\n",
    "}"
   ]
  },
  {
   "cell_type": "code",
   "execution_count": 24,
   "id": "c842b519-c51f-4194-b517-84c6cc46af67",
   "metadata": {
    "tags": []
   },
   "outputs": [
    {
     "name": "stdout",
     "output_type": "stream",
     "text": [
      "The array does not contain duplicates.\n"
     ]
    },
    {
     "data": {
      "text/plain": [
       "{ 1, 3, 2, 4, 5, 8, 6 }"
      ]
     },
     "execution_count": 24,
     "metadata": {},
     "output_type": "execute_result"
    }
   ],
   "source": [
    "int arr[] = {1, 3, 2, 4, 5, 8, 6};\n",
    "// Call the 'containsDuplicates' function to check for duplicates in the array.\n",
    "bool result = containsDuplicates(arr, sizeof(arr) / sizeof(int));\n",
    "// Output a message based on the result of the duplicate check.\n",
    "if (result) {\n",
    "    std::cout << \"The array contains duplicates.\" << std::endl;\n",
    "} else {\n",
    "    std::cout << \"The array does not contain duplicates.\" << std::endl;\n",
    "}\n",
    "arr"
   ]
  },
  {
   "cell_type": "code",
   "execution_count": 25,
   "id": "836d227f-8c66-4df5-8596-9651b6f35ee3",
   "metadata": {
    "tags": []
   },
   "outputs": [
    {
     "name": "stdout",
     "output_type": "stream",
     "text": [
      "The array contains duplicates.\n"
     ]
    },
    {
     "data": {
      "text/plain": [
       "{ 2, 3, 2, 4, 5, 3, 6 }"
      ]
     },
     "execution_count": 25,
     "metadata": {},
     "output_type": "execute_result"
    }
   ],
   "source": [
    "int arr[] = {2, 3, 2, 4, 5, 3, 6};\n",
    "// Call the 'containsDuplicates' function to check for duplicates in the array.\n",
    "bool result = containsDuplicates(arr, sizeof(arr) / sizeof(int));\n",
    "// Output a message based on the result of the duplicate check.\n",
    "if (result) {\n",
    "    std::cout << \"The array contains duplicates.\" << std::endl;\n",
    "} else {\n",
    "    std::cout << \"The array does not contain duplicates.\" << std::endl;\n",
    "}\n",
    "arr"
   ]
  },
  {
   "cell_type": "markdown",
   "id": "18d70d42-bda0-4cb6-b6ae-f814737b7d62",
   "metadata": {},
   "source": [
    "**<u>Show your TA your work, then switch your driver and navigator roles before moving on.</u>**"
   ]
  },
  {
   "cell_type": "markdown",
   "id": "64c47fbd-dc05-4509-ba18-ac20d330d8ee",
   "metadata": {},
   "source": [
    "#### Exercise 2b:\n",
    "\n",
    "You are provided with a function that examines whether a specific number exists in a sorted (in ascending order) array of integers. However, the given code returns incorrect results. Your task is to identify and rectify the problems in the code by inserting print statements and closely monitoring how the search operation is executed."
   ]
  },
  {
   "cell_type": "code",
   "execution_count": 26,
   "id": "07923f1f-64e0-4bef-91df-6df022713a61",
   "metadata": {
    "tags": []
   },
   "outputs": [],
   "source": [
    "/*\n",
    "Perform binary search in a sorted array for a given target.\n",
    "param arr: an array of integers.\n",
    "param size: size of the input array.\n",
    "param target: the number to search for in the array.\n",
    "return: index of the target in the rray.\n",
    "\n",
    "TODO: Debug the code to address incorrect result!\n",
    "\n",
    "*/\n",
    "int binarySearch(int arr[], int size, int target) {\n",
    "    // Initialize left and right pointers for the binary search.\n",
    "    int left = 0;\n",
    "    int right = size - 1;\n",
    "\n",
    "    // Perform the binary search loop.\n",
    "    while (left <= right) {\n",
    "        // Calculate the middle index.\n",
    "        int mid = left + (right - left) / 2;\n",
    "\n",
    "        // Check if the middle element matches the target.\n",
    "        if (arr[mid] == target) {\n",
    "            return mid;  // Return the index of the target.\n",
    "        } else if (arr[mid] < target) {  // If the middle element is smaller than the target.\n",
    "            left = mid + 1;  // Update the left pointer.\n",
    "        } else {\n",
    "            right = mid - 2;  // Update the right pointer\n",
    "        }\n",
    "    }\n",
    "\n",
    "    return -1;  // Return -1 to indicate that the target is not found in the array.\n",
    "}"
   ]
  },
  {
   "cell_type": "code",
   "execution_count": 27,
   "id": "204d565f-0dc2-4ce2-999d-cc29c8235bea",
   "metadata": {
    "tags": []
   },
   "outputs": [],
   "source": [
    "/*\n",
    "Perform binary search in a sorted array for a given target.\n",
    "param arr: an array of integers.\n",
    "param size: size of the input array.\n",
    "param target: the number to search for in the array.\n",
    "return: index of the target in the rray.\n",
    "*/\n",
    "int binarySearch(int arr[], int size, int target) {\n",
    "    // Initialize left and right pointers for the binary search.\n",
    "    int left = 0;\n",
    "    int right = size - 1;\n",
    "\n",
    "    // Perform the binary search loop.\n",
    "    while (left <= right) {\n",
    "        // Calculate the middle index.\n",
    "        int mid = left + (right - left) / 2;\n",
    "\n",
    "        // Check if the middle element matches the target.\n",
    "        if (arr[mid] == target) {\n",
    "            return mid;  // Return the index of the target.\n",
    "        } else if (arr[mid] < target) {  // If the middle element is smaller than the target.\n",
    "            left = mid + 1;  // Update the left pointer.\n",
    "        } else {\n",
    "            right = mid - 1;  // Update the right pointer --- typographical error was here\n",
    "        }\n",
    "    }\n",
    "\n",
    "    return -1;  // Return -1 to indicate that the target is not found in the array.\n",
    "}"
   ]
  },
  {
   "cell_type": "code",
   "execution_count": 28,
   "id": "e4321e84-3d13-44ac-a94f-eb4ff208bcd7",
   "metadata": {
    "tags": []
   },
   "outputs": [
    {
     "name": "stdout",
     "output_type": "stream",
     "text": [
      "Element 5 found at index 4\n"
     ]
    },
    {
     "data": {
      "text/plain": [
       "{ 1, 2, 3, 4, 5, 6, 7, 8, 9 }"
      ]
     },
     "execution_count": 28,
     "metadata": {},
     "output_type": "execute_result"
    }
   ],
   "source": [
    "int arr[] = {1, 2, 3, 4, 5, 6, 7, 8, 9};\n",
    "int target = 5;\n",
    "\n",
    "// Perform a binary search for 'target' in the 'arr' array.\n",
    "int result = binarySearch(arr, sizeof(arr) / sizeof(int), target);\n",
    "// Check the result of the binary search and provide output accordingly.\n",
    "if (result != -1) {\n",
    "    std::cout << \"Element \" << target << \" found at index \" << result << std::endl;\n",
    "} else {\n",
    "    std::cout << \"Element \" << target << \" not found in the array.\" << std::endl;\n",
    "}\n",
    "arr"
   ]
  },
  {
   "cell_type": "code",
   "execution_count": 29,
   "id": "d2502c4a-e8ac-4bea-b090-bb85caa10831",
   "metadata": {
    "tags": []
   },
   "outputs": [
    {
     "name": "stdout",
     "output_type": "stream",
     "text": [
      "Element 1 found at index 0\n"
     ]
    },
    {
     "data": {
      "text/plain": [
       "{ 1, 2, 3, 4, 5, 6, 7, 8, 9 }"
      ]
     },
     "execution_count": 29,
     "metadata": {},
     "output_type": "execute_result"
    }
   ],
   "source": [
    "int arr[] = {1, 2, 3, 4, 5, 6, 7, 8, 9};\n",
    "int target = 1;\n",
    "\n",
    "// Perform a binary search for 'target' in the 'arr' array.\n",
    "int result = binarySearch(arr, sizeof(arr) / sizeof(int), target);\n",
    "// Check the result of the binary search and provide output accordingly.\n",
    "if (result != -1) {\n",
    "    std::cout << \"Element \" << target << \" found at index \" << result << std::endl;\n",
    "} else {\n",
    "    std::cout << \"Element \" << target << \" not found in the array.\" << std::endl;\n",
    "}\n",
    "arr"
   ]
  },
  {
   "cell_type": "markdown",
   "id": "cf4a13bb-cfe4-49f5-80f9-fd935fac2a57",
   "metadata": {},
   "source": [
    "**<u>Show your TA your work, then switch your driver and navigator roles before moving on.</u>**"
   ]
  },
  {
   "cell_type": "markdown",
   "id": "e7051235-bf18-4489-9cc1-84303f1e6600",
   "metadata": {},
   "source": [
    "#### Exercise 2c:\n",
    "\n",
    "You are given two functions: one designed to compute the average of a set of numbers and another meant for calculating their standard deviation. The code is currently generating inaccurate outputs. Your task is to identify and rectify the issues in the code by employing a divide-and-conquer approach in addition to using print statements for debugging."
   ]
  },
  {
   "cell_type": "code",
   "execution_count": 30,
   "id": "d296fcff-c789-434d-aea2-d5341b2d460a",
   "metadata": {},
   "outputs": [],
   "source": [
    "/*\n",
    "Calculate the mean (average) of an array of values\n",
    "param values: an array of integers.\n",
    "param numValues: size of the input array.\n",
    "return: the mean of the array values.\n",
    "\n",
    "TODO: Debug the code to address incorrect result!\n",
    "\n",
    "*/\n",
    "double calculateMean(const double values[], int numValues) {\n",
    "    // Initialize a variable 'sum' to store the sum of all values, and set it to 0.0.\n",
    "    double sum = 0.0;\n",
    "    // Iterate through the 'values' array and add each value to the 'sum' variable.\n",
    "    for (int i = 0; i < numValues; i++) {\n",
    "        sum += values[i];\n",
    "    }\n",
    "    // Calculate the mean by dividing the 'sum' by the total number of values.\n",
    "    return sum / numValues;\n",
    "}"
   ]
  },
  {
   "cell_type": "code",
   "execution_count": 31,
   "id": "b8ca26f6-1151-4b12-accd-677788e771a0",
   "metadata": {},
   "outputs": [],
   "source": [
    "/*\n",
    "Calculate the standard deviation of an array of values\n",
    "param values: an array of integers.\n",
    "param numValues: size of the input array.\n",
    "return: the standard deviation of the array values.\n",
    "\n",
    "TODO: Debug the code to address incorrect result!\n",
    "\n",
    "*/\n",
    "double calculateStandardDeviation(const double values[], int numValues) {\n",
    "    // Calculate the mean (average) of the 'values' array using the 'calculateMean' function.\n",
    "    double mean = calculateMean(values, numValues);\n",
    "    // Initialize a variable 'sumOfSquaredDifferences' to store the sum of squared differences, and set it to 0.0.\n",
    "    double sumOfSquaredDifferences = 0.0;\n",
    "\n",
    "    // Iterate through the 'values' array\n",
    "    for (int i = 0; i <= numValues; i++) {\n",
    "        // Calculate the difference between each value and the mean.\n",
    "        double difference = values[i] - mean;\n",
    "        // Add the square of the difference to the 'sumOfSquaredDifferences'.\n",
    "        sumOfSquaredDifferences += difference * difference;\n",
    "    }\n",
    "\n",
    "    // Calculate the variance by dividing the 'sumOfSquaredDifferences' by the number of values.\n",
    "    double variance = sumOfSquaredDifferences / numValues;\n",
    "    // Calculate the standard deviation by taking the square root of the variance.\n",
    "    double standardDeviation = std::sqrt(variance);\n",
    "\n",
    "    return standardDeviation;\n",
    "}"
   ]
  },
  {
   "cell_type": "code",
   "execution_count": 32,
   "id": "a2ed6fbc-105d-4a25-b143-a02a9dab481b",
   "metadata": {},
   "outputs": [],
   "source": [
    "/*\n",
    "Calculate the standard deviation of an array of values\n",
    "param values: an array of integers.\n",
    "param numValues: size of the input array.\n",
    "return: the standard deviation of the array values.\n",
    "*/\n",
    "double calculateStandardDeviation(const double values[], int numValues) {\n",
    "    // Calculate the mean (average) of the 'values' array using the 'calculateMean' function.\n",
    "    double mean = calculateMean(values, numValues);\n",
    "    // Initialize a variable 'sumOfSquaredDifferences' to store the sum of squared differences, and set it to 0.0.\n",
    "    double sumOfSquaredDifferences = 0.0;\n",
    "\n",
    "    // Iterate through the 'values' array\n",
    "    for (int i = 0; i < numValues; i++) { // ----- error was here replace <= with just <\n",
    "        // Calculate the difference between each value and the mean.\n",
    "        double difference = values[i] - mean;\n",
    "        // Add the square of the difference to the 'sumOfSquaredDifferences'.\n",
    "        sumOfSquaredDifferences += difference * difference;\n",
    "    }\n",
    "\n",
    "    // Calculate the variance by dividing the 'sumOfSquaredDifferences' by the number of values.\n",
    "    double variance = sumOfSquaredDifferences / numValues;\n",
    "    // Calculate the standard deviation by taking the square root of the variance.\n",
    "    double standardDeviation = std::sqrt(variance);\n",
    "\n",
    "    return standardDeviation;\n",
    "}"
   ]
  },
  {
   "cell_type": "code",
   "execution_count": 33,
   "id": "a8e28293-3bc6-4e10-bae2-e2683b7b6e6c",
   "metadata": {},
   "outputs": [
    {
     "name": "stdout",
     "output_type": "stream",
     "text": [
      "Standard Deviation: 2.56125\n"
     ]
    },
    {
     "data": {
      "text/plain": [
       "{ 10.000000, 15.000000, 12.000000, 8.0000000, 14.000000 }"
      ]
     },
     "execution_count": 33,
     "metadata": {},
     "output_type": "execute_result"
    }
   ],
   "source": [
    "double data[] = {10.0, 15.0, 12.0, 8.0, 14.0};\n",
    "int numValues = sizeof(data) / sizeof(double);\n",
    "\n",
    "// Call the 'calculateStandardDeviation' function to compute the standard deviation\n",
    "double stdDeviation = calculateStandardDeviation(data, numValues);\n",
    "std::cout << \"Standard Deviation: \" << stdDeviation << std::endl;\n",
    "\n",
    "data\n",
    "// The correct answer for the standard deviation for the given array is 2.56125."
   ]
  },
  {
   "cell_type": "markdown",
   "id": "4b796059-cb4e-454e-90f7-ce5ba9a309d1",
   "metadata": {},
   "source": [
    "**<u>Show your TA your work to finish the lab.</u>**"
   ]
  },
  {
   "cell_type": "markdown",
   "id": "732a130c-7651-47d8-93bd-15a11ab0f3e8",
   "metadata": {},
   "source": [
    "For keeping a record of your completed labs, you should also submit your code here on Canvas. Download a pdf of your notebook, and upload it to the assignment page before submitting. Make sure the author names are listed at the top of each file!"
   ]
  },
  {
   "cell_type": "markdown",
   "id": "8f7b25d2-2215-498e-a043-2063e8b707fe",
   "metadata": {},
   "source": [
    "Extra:"
   ]
  },
  {
   "cell_type": "code",
   "execution_count": 34,
   "id": "ee1420d6-fc02-459c-b17a-38df3fd8c2a4",
   "metadata": {
    "tags": []
   },
   "outputs": [
    {
     "name": "stdout",
     "output_type": "stream",
     "text": [
      "Sum: 10\n"
     ]
    }
   ],
   "source": [
    "int sum(int a, int b) {\n",
    "    return a + b;\n",
    "}\n",
    "\n",
    "int num1 = 5;\n",
    "int num2 = 3;\n",
    "int result = sum(num1, num1);\n",
    "std::cout << \"Sum: \" << result << std::endl;"
   ]
  },
  {
   "cell_type": "code",
   "execution_count": 35,
   "id": "08d08083-3fbf-4eee-97ee-b803a9033db1",
   "metadata": {
    "tags": []
   },
   "outputs": [
    {
     "name": "stdout",
     "output_type": "stream",
     "text": [
      "Sum: 8\n"
     ]
    }
   ],
   "source": [
    "int sum(int a, int b) {\n",
    "    return a + b;\n",
    "}\n",
    "\n",
    "int num1 = 5;\n",
    "int num2 = 3;\n",
    "int result = sum(num1, num2);\n",
    "std::cout << \"Sum: \" << result << std::endl;"
   ]
  }
 ],
 "metadata": {
  "kernelspec": {
   "display_name": "C++11",
   "language": "C++11",
   "name": "xcpp11"
  },
  "language_info": {
   "codemirror_mode": "text/x-c++src",
   "file_extension": ".cpp",
   "mimetype": "text/x-c++src",
   "name": "c++",
   "version": "11"
  }
 },
 "nbformat": 4,
 "nbformat_minor": 5
}
